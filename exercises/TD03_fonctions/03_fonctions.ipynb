{
 "cells": [
  {
   "cell_type": "markdown",
   "metadata": {},
   "source": [
    "# Instructions Générales\n",
    "\n",
    "Ce TD est à faire en créant un fichier td3.py, que vous éditerez dans VSCode. \n",
    "Vous ne remplirez pas les cellules de ce notebook, mais vous les copierez au fur et à mesure \n",
    "dans votre fichier pour les compléter.\n",
    "\n",
    "Vous respecterez au mieux les règles d'écriture de code, en particulier chaque fonction devra avoir un **docstring** et des commentaires si nécessaire et les noms de variable seront illustratifs de leur usage. Vous utiliserez les outils de débogage (flake8, mypy, debugger, pythontutor ...) pour corriger vos bogues."
   ]
  },
  {
   "cell_type": "markdown",
   "metadata": {},
   "source": [
    "# Gestion du temps\n",
    "\n",
    "Nous allons créer un petit logiciel de gestion du temps et des dates.\n",
    "Pour cela nous aurons besoin de créer un certain nombre de fonctions utilitaires.\n",
    "\n",
    "Un temps a le format suivant: (jour: int, heure: int, minute: int, seconde: int).\n",
    "C'est un tuple de 4 éléments. Par exemple (4, 3, 13, 20) correspond à 4 jours, 3 heures, 13 minutes et 20 secondes.\n",
    "Si on a une variable temps = (4, 3, 13, 20), pour accéder au premier élément on fait temps\\[0\\] ce qui donne 4,\n",
    "le nombre de jours.\n",
    "\n",
    "Créer la fonction qui prend comme argument le temps et renvoie le nombre de seconde total correspondant à ce temps.\n",
    "Créer la fonction qui prend un nombre de secondes et renvoie le temps correspondant."
   ]
  },
  {
   "cell_type": "code",
   "execution_count": 1,
   "metadata": {},
   "outputs": [
    {
     "name": "stdout",
     "output_type": "stream",
     "text": [
      "<class 'tuple'>\n",
      "342094\n",
      "0 années 1 jours 3 heures 46 minutes 40 secondes\n"
     ]
    }
   ],
   "source": [
    "#temps[0] : jours, temps[1]: heures, temps[2]: minutes, temps[3]: secondes\n",
    "\n",
    "def tempsEnSeconde(temps):\n",
    "    \"\"\" Renvoie la valeur en seconde de temps donné comme jour, heure, minute, seconde.\"\"\"\n",
    "    T_sec = (temps[0]*31536000) + (temps[1]*86400) + (temps[2]*3600) + (temps[3]*60) + temps[4] \n",
    "    return(T_sec)\n",
    "\n",
    "temps = (0,3,23,1,34)\n",
    "print(type(temps))\n",
    "print(tempsEnSeconde(temps))   \n",
    "\n",
    "def secondeEnTemps(seconde):\n",
    "    \"\"\"Renvoie le temps (jour, heure, minute, seconde) qui correspond au nombre de seconde passé en argument\"\"\"\n",
    "    temps = (seconde//31536000 , seconde%31536000//86400 , (seconde%31536000%86400)//3600 , ((seconde%31536000%86400)%3600//60) , seconde%31536000%86400%3600%60)\n",
    "    return(temps)\n",
    "    \n",
    "temps = secondeEnTemps(100000)\n",
    "print(temps[0],\"années\",temps[1],\"jours\",temps[2],\"heures\",temps[3],\"minutes\", temps[4],\"secondes\")"
   ]
  },
  {
   "cell_type": "markdown",
   "metadata": {},
   "source": [
    "Créer une fonction d'affichage d'un temps `afficheTemps`. Attention, les mots jour, heure et seconde doivent être au pluriel s'il y en a plusieurs. S'il y en a zéro, ils ne doivent pas apparaître.\n",
    "`print(message, end=\"\")` permet de ne pas sauter une ligne après un print. \n",
    "Vous pouvez écrire une fonction qui affiche un mot au pluriel ou non, appelée ensuite plusieurs fois par `afficheTemps` pour simplifier votre code.\n"
   ]
  },
  {
   "cell_type": "code",
   "execution_count": 2,
   "metadata": {},
   "outputs": [
    {
     "name": "stdout",
     "output_type": "stream",
     "text": [
      "1 année 1 jour 14 minutes 23 secondes "
     ]
    }
   ],
   "source": [
    "#fonction auxiliaire ici\n",
    "\n",
    "lst_p = [\"années\",\"jours\",\"heures\",\"minutes\",\"secondes\"]\n",
    "lst_s = [\"année\",\"jour\",\"heure\",\"minute\",\"seconde\"]\n",
    "def afficheTemps(temps):\n",
    "    i = 0\n",
    "    while i <= 4:\n",
    "        if temps[i] > 1 :\n",
    "            print(temps[i], lst_p[i], end=\" \")\n",
    "\n",
    "        elif temps[i] == 1:\n",
    "            print(temps[i], lst_s[i], end=\" \")\n",
    "        \n",
    "        else:\n",
    "            print(end=\"\")\n",
    "        \n",
    "        i+=1\n",
    "    \n",
    "                                                                \n",
    "\n",
    "afficheTemps((1,1,0,14,23))    "
   ]
  },
  {
   "cell_type": "markdown",
   "metadata": {},
   "source": [
    "Ecrire une fonction qui demande à l'utilisateur de rentrer un nombre de jours, d'heures, de minutes et\n",
    "de secondes et qui renvoie un temps. Attention, si l'entrée utilisateur n'est pas correcte, par exemple 80 minutes,\n",
    "afficher un message d'erreur et s'arrêter.\n",
    "\n",
    "(Optionnel) Au lieu d'arêter le programme, demander de rentrer une nouvelle valeur, tant que \n",
    "ce n'est pas une valeur correcte."
   ]
  },
  {
   "cell_type": "code",
   "execution_count": 7,
   "metadata": {},
   "outputs": [
    {
     "name": "stdout",
     "output_type": "stream",
     "text": [
      "13 années 54 jours 1 heure 34 minutes "
     ]
    }
   ],
   "source": [
    "\n",
    "\n",
    "def demandeTemps():\n",
    "    temps_a=int(input(\"nombre de années\"))\n",
    "    temps_j=int(input(\"nombre de jours\"))\n",
    "    temps_h=int(input(\"nombre de heures\"))\n",
    "    if temps_h > 24:\n",
    "        return(\"erreur , gros nul tu sais pas konté\")\n",
    "    temps_m=int(input(\"nombre de minutes\"))\n",
    "    if temps_m > 60:\n",
    "        return(\"erreur , gros nul tu sais pas konté\")\n",
    "    temps_s=int(input(\"nombre de secondes\"))\n",
    "    if temps_s > 60:\n",
    "        return(\"erreur , gros nul tu sais pas konté\")\n",
    "    \n",
    "    temps = (temps_a,temps_j,temps_h,temps_m,temps_s)\n",
    "    return(temps[0], temps[1], temps[2], temps[3], temps[4])\n",
    "\n",
    "\n",
    "\n",
    "    \n",
    "\n",
    "    \n",
    "    \n",
    "    \n",
    "afficheTemps(demandeTemps())"
   ]
  },
  {
   "cell_type": "markdown",
   "metadata": {},
   "source": [
    "On veut être capable d'additionner deux temps. Donner une fonction qui fait ce calcul,\n",
    "en utilisant les fonctions précédentes."
   ]
  },
  {
   "cell_type": "code",
   "execution_count": 43,
   "metadata": {},
   "outputs": [
    {
     "data": {
      "text/plain": [
       "[0, 8, 3, 2, 6]"
      ]
     },
     "execution_count": 43,
     "metadata": {},
     "output_type": "execute_result"
    }
   ],
   "source": [
    "def sommeTemps(temps1,temps2):\n",
    "    i = 0\n",
    "    S_temps = []\n",
    "\n",
    "\n",
    "    while i <= 4:\n",
    "        S_temps += [(temps1[i] + temps2[i]),]\n",
    "        i += 1\n",
    "\n",
    "    if S_temps[1] > 365 :\n",
    "        S_temps[0] += ((S_temps[1]//365))\n",
    "        S_temps[1] = ((S_temps[1]%365))\n",
    "        \n",
    "\n",
    "    if S_temps[2] > 24 :\n",
    "        S_temps[1] += ((S_temps[2]//24))\n",
    "        S_temps[2] = ((S_temps[2]%24)) \n",
    "        \n",
    "\n",
    "    if S_temps[3] > 60 :\n",
    "        S_temps[2] += ((S_temps[3]//60))\n",
    "        S_temps[3] = ((S_temps[3]%60))\n",
    "        \n",
    "\n",
    "    if S_temps[4] > 60 :\n",
    "        S_temps[3] += ((S_temps[4]//60))\n",
    "        S_temps[4] = ((S_temps[4]%60))\n",
    "    \n",
    "    return S_temps\n",
    "\n",
    "sommeTemps((0,2,4,4,56),(0,5,22,57,10))"
   ]
  },
  {
   "cell_type": "markdown",
   "metadata": {},
   "source": [
    "On veut maintenant calculer un pourcentage d'un temps. Par exemple, 20% de\n",
    "2 jours et 36 minutes correspond à 9 heures, 43 minutes et 12 secondes.\n",
    "\n",
    "Implémenter la fonction `proportionTemps` puis appeler cette fonction en échangeant l'ordre des arguments mais en les nommant."
   ]
  },
  {
   "cell_type": "code",
   "execution_count": 10,
   "metadata": {},
   "outputs": [
    {
     "name": "stdout",
     "output_type": "stream",
     "text": [
      "9 heures 43 minutes 12 secondes "
     ]
    }
   ],
   "source": [
    "def proportionTemps(temps,proportion):\n",
    "    propor_t = int(tempsEnSeconde(temps)* proportion)\n",
    "    \n",
    "    return secondeEnTemps(propor_t)\n",
    "\n",
    "    \n",
    "afficheTemps(proportionTemps((0,2,0,36,0),0.2))\n",
    "#appeler la fonction en échangeant l'ordre des arguments"
   ]
  },
  {
   "cell_type": "markdown",
   "metadata": {},
   "source": [
    "On veut maintenant afficher un temps sous forme de date, en supposant \n",
    "que le temps 0 est le 1 janvier 1970 à 00:00:00.\n",
    "\n",
    "* Implémenter une fonction `tempsEnDate`qui donne la date sous la forme (année, jour, heure, minute, seconde).\n",
    "* Implémenter la fonction `afficheDate`qui affiche la date. \n",
    "* (Optionnel) Gérer également les mois."
   ]
  },
  {
   "cell_type": "code",
   "execution_count": 47,
   "metadata": {},
   "outputs": [
    {
     "name": "stdout",
     "output_type": "stream",
     "text": [
      "2001 années 259 jours 1 heure 46 minutes 40 secondes "
     ]
    }
   ],
   "source": [
    "\n",
    "\n",
    "\n",
    "temps = secondeEnTemps(1000000000)\n",
    "def tempsEnDate(temps):\n",
    "    st =  sommeTemps(temps,(1970,0,0,0,0))\n",
    "    return (st)\n",
    "\n",
    "lst_p = [\"années\",\"jours\",\"heures\",\"minutes\",\"secondes\"]\n",
    "lst_s = [\"année\",\"jour\",\"heure\",\"minute\",\"seconde\"]\n",
    "def afficheDate(st):\n",
    "    i = 0\n",
    "    while i <= 4:\n",
    "        if tempsEnDate(temps)[i] > 1 :\n",
    "            print(tempsEnDate(temps)[i], lst_p[i], end=\" \")\n",
    "\n",
    "        elif tempsEnDate(temps)[i] == 1:\n",
    "            print(tempsEnDate(temps)[i], lst_s[i], end=\" \")\n",
    "        \n",
    "        else:\n",
    "            print(end=\"\")\n",
    "        \n",
    "        i+=1\n",
    " \n",
    "\n",
    "\n",
    "\n",
    "afficheDate(tempsEnDate(temps))\n"
   ]
  },
  {
   "cell_type": "markdown",
   "metadata": {},
   "source": [
    "Il existe des fonctions dans la librairie `time` pour la gestion du temps. En particulier, il existe\n",
    "une fonction `time` qui donne le temps écoulé depuis 1970 en secondes. \n",
    "La trouver avec la [documentation python](https://docs.python.org/fr/3/library/time.html#module-time) et la tester en utilisant `afficheDate`. \n",
    "Tester de la même manière la fonction `time.gmtime` qui réalise une tâche similaire à `tempsEnDate`.\n",
    "Que constatez vous ?"
   ]
  },
  {
   "cell_type": "code",
   "execution_count": null,
   "metadata": {},
   "outputs": [],
   "source": [
    "#tester ici les fonctions de la librairie time"
   ]
  },
  {
   "cell_type": "markdown",
   "metadata": {},
   "source": [
    "Attention, tous les 4 ans les années sont bisextiles (un jour de plus) sauf les multiples de 100 qui ne sont pas des multiples de 400.\n",
    "Donner un code qui prend un nombre de jours et affiche toutes les années bisextiles depuis le 1er janvier 1970 à 00:00:00 jusqu'à la fin de ces jours."
   ]
  },
  {
   "cell_type": "code",
   "execution_count": 65,
   "metadata": {},
   "outputs": [
    {
     "name": "stdout",
     "output_type": "stream",
     "text": [
      "1970 année non bissextile\n",
      "1971 année non bissextile\n",
      "1972 année bissextile\n",
      "1973 année non bissextile\n",
      "1974 année non bissextile\n",
      "1975 année non bissextile\n",
      "1976 année bissextile\n",
      "1977 année non bissextile\n",
      "1978 année non bissextile\n",
      "1979 année non bissextile\n",
      "1980 année bissextile\n",
      "1981 année non bissextile\n",
      "1982 année non bissextile\n",
      "1983 année non bissextile\n",
      "1984 année bissextile\n",
      "1985 année non bissextile\n",
      "1986 année non bissextile\n",
      "1987 année non bissextile\n",
      "1988 année bissextile\n",
      "1989 année non bissextile\n",
      "1990 année non bissextile\n",
      "1991 année non bissextile\n",
      "1992 année bissextile\n",
      "1993 année non bissextile\n",
      "1994 année non bissextile\n",
      "1995 année non bissextile\n",
      "1996 année bissextile\n",
      "1997 année non bissextile\n",
      "1998 année non bissextile\n",
      "1999 année non bissextile\n",
      "2000 année bissextile\n",
      "2001 année non bissextile\n",
      "2002 année non bissextile\n",
      "2003 année non bissextile\n",
      "2004 année bissextile\n",
      "2005 année non bissextile\n",
      "2006 année non bissextile\n",
      "2007 année non bissextile\n",
      "2008 année bissextile\n",
      "2009 année non bissextile\n",
      "2010 année non bissextile\n",
      "2011 année non bissextile\n",
      "2012 année bissextile\n",
      "2013 année non bissextile\n",
      "2014 année non bissextile\n",
      "2015 année non bissextile\n",
      "2016 année bissextile\n",
      "2017 année non bissextile\n",
      "2018 année non bissextile\n",
      "2019 année non bissextile\n",
      "2020 année bissextile\n",
      "2021 année non bissextile\n",
      "2022 année non bissextile\n",
      "2023 année non bissextile\n",
      "2024 année bissextile\n"
     ]
    }
   ],
   "source": [
    "def année_bisextile(année) :\n",
    "    A = année\n",
    "    if (A%100 != 0 and A%4 == 0) or (A%100 == 0 and A%400 == 0):\n",
    "        return \"année bissextile\"\n",
    "    else:\n",
    "        return \"année non bissextile\"\n",
    "\n",
    "def bisextile(jour):\n",
    "    année = 1970 + (jour//365)\n",
    "    for i in range(1970, année+1):\n",
    "        print(i , année_bisextile(i))\n",
    "        \n",
    "bisextile(20000)"
   ]
  },
  {
   "cell_type": "markdown",
   "metadata": {},
   "source": [
    "Implémenter une fonction `nombreBisextile` qui calcule le nombre d'années bisextiles entre le 1er janvier 1970 et le nombre de jour donnés.\n",
    "Utilisez-la pour implémenter une fonction `tempsEnDateBisextile` qui fait la même chose que `tempsEnDate` mais en prenant en compte les années bisextiles."
   ]
  },
  {
   "cell_type": "code",
   "execution_count": 76,
   "metadata": {},
   "outputs": [
    {
     "name": "stdout",
     "output_type": "stream",
     "text": [
      "14\n",
      "31 années 259 jours 1 heure 46 minutes 40 secondes \n",
      "2001 années 267 jours 1 heure 46 minutes 40 secondes "
     ]
    }
   ],
   "source": [
    "def nombreBisextile(jour):\n",
    "    N_années_b = 0\n",
    "    année = 1970 + (jour//365)\n",
    "    for i in range(1970, année+1):\n",
    "        if année_bisextile(i) == \"année bissextile\":\n",
    "            N_années_b += 1\n",
    "    return N_années_b\n",
    "\n",
    "def tempsEnDateBisextile(temps):\n",
    "    N_années_b2 = 0\n",
    "    stb =  sommeTemps(temps,(1970,0,0,0,0))\n",
    "    for i in range(1970, stb[0]+1):\n",
    "        if année_bisextile(i) == \"année bissextile\":\n",
    "            N_années_b2 += 1\n",
    "    tempsEnDateb = sommeTemps(stb , (0,N_années_b2,0,0,0))\n",
    "    return (tempsEnDateb)\n",
    "   \n",
    "temps = secondeEnTemps(1000000000)\n",
    "print(nombreBisextile(20000))\n",
    "afficheTemps(temps)\n",
    "print(\"\")\n",
    "afficheTemps(tempsEnDateBisextile(temps))\n"
   ]
  },
  {
   "cell_type": "markdown",
   "metadata": {},
   "source": [
    "Ajouter des valeurs par défaut dans le code de `afficheDate` afin de pouvoir ommettre\n",
    "l'argument de ces fonctions. Dans ce cas là, on affichera la date actuelle en utilisant la fonction `time`."
   ]
  },
  {
   "cell_type": "markdown",
   "metadata": {},
   "source": [
    "On va maintenant inspecter notre code pour améliorer sa qualité:\n",
    "\n",
    "* Regarder tous les warnings donnés par flake8 et essayer de les régler.\n",
    "* Utiliser le debugger (F5) pour étudier le fonctionnement de votre fonction nombreBisextile.\n",
    "* Mettre les annotations de type des arguments et du retour de la fonction pour nombreBisextile et une autre fonction de votre choix. Vérifier avec mypy que tout fonctionne bien."
   ]
  },
  {
   "cell_type": "markdown",
   "metadata": {},
   "source": [
    "Donner une fonction qui vérifie la charge horaire d'un employé, donnée sous forme d'une liste de temps travaillé chaque semaine dans un mois. Il ne faut pas dépasser 48h par semaine et 140h par mois (qu'on considère ici de 4 semaines).\n",
    "\n",
    "(Optionnel) S'adapter à une liste qui peut contenir plusieurs mois."
   ]
  },
  {
   "cell_type": "code",
   "execution_count": 89,
   "metadata": {},
   "outputs": [
    {
     "data": {
      "text/plain": [
       "'Travail trop !!!!!'"
      ]
     },
     "execution_count": 89,
     "metadata": {},
     "output_type": "execute_result"
    }
   ],
   "source": [
    "def verifie(liste_temps):\n",
    "    temps_mois = sommeTemps(sommeTemps([0,1,2,39,34],[0,0,1,9,4]) ,sommeTemps([0,0,29,39,51],[0,0,31,13,46]))\n",
    "    temps_heureM = tempsEnSeconde(temps_mois)//3600\n",
    "    temps_heureS1 = tempsEnSeconde(liste_temps[0])//3600\n",
    "    temps_heureS2 = tempsEnSeconde(liste_temps[1])//3600\n",
    "    temps_heureS3 = tempsEnSeconde(liste_temps[2])//3600\n",
    "    temps_heureS4 = tempsEnSeconde(liste_temps[3])//3600\n",
    "    if temps_heureM >= 140 or temps_heureS1 >= 48 or temps_heureS2 >= 48 or temps_heureS3 >= 48 or temps_heureS4 >= 48 :\n",
    "        return \"Travail trop !!!!!\"\n",
    "    else :\n",
    "        return \"ok.\"\n",
    "\n",
    "\n",
    "\n",
    "\n",
    "\n",
    "\n",
    "liste_temps = [[0,34,2,39,34],[0,0,1,9,4],[0,0,29,39,51],[0,0,31,13,46]]\n",
    "verifie(liste_temps)"
   ]
  }
 ],
 "metadata": {
  "kernelspec": {
   "display_name": "Python 3.9.5 64-bit",
   "language": "python",
   "name": "python3"
  },
  "language_info": {
   "codemirror_mode": {
    "name": "ipython",
    "version": 3
   },
   "file_extension": ".py",
   "mimetype": "text/x-python",
   "name": "python",
   "nbconvert_exporter": "python",
   "pygments_lexer": "ipython3",
   "version": "3.9.5"
  },
  "vscode": {
   "interpreter": {
    "hash": "5e17932b9ad13779899a44ee7cdcc6be2444995b507c740241444102887b9adf"
   }
  }
 },
 "nbformat": 4,
 "nbformat_minor": 4
}
